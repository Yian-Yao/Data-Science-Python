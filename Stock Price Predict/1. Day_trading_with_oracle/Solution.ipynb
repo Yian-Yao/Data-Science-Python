{
 "cells": [
  {
   "cell_type": "markdown",
   "id": "4c2a693a",
   "metadata": {},
   "source": [
    "## Question 1"
   ]
  },
  {
   "cell_type": "code",
   "execution_count": 11,
   "id": "e0738ea7",
   "metadata": {},
   "outputs": [],
   "source": [
    "import os\n",
    "import prettytable as pt"
   ]
  },
  {
   "cell_type": "code",
   "execution_count": 2,
   "id": "237dd131",
   "metadata": {},
   "outputs": [],
   "source": [
    "def calculate_mean_sd(retrn_set, neg_retrn_set, nonneg_retrn_set):\n",
    "    mean_retrn = sum(retrn_set) / len(retrn_set)\n",
    "    sd_retrn = (sum([((x - mean_retrn) ** 2) for x in retrn_set]) / len(retrn_set)) ** 0.5\n",
    "    \n",
    "    mean_neg = sum(neg_retrn_set) / len(neg_retrn_set)\n",
    "    sd_neg = (sum([((x - mean_neg) ** 2) for x in neg_retrn_set]) / len(neg_retrn_set)) ** 0.5\n",
    "    \n",
    "    mean_nonneg = sum(nonneg_retrn_set) / len(nonneg_retrn_set)\n",
    "    sd_nonneg = (sum([((x - mean_nonneg) ** 2) for x in nonneg_retrn_set]) / len(nonneg_retrn_set)) ** 0.5\n",
    "    return [mean_retrn, sd_retrn, len(neg_retrn_set), mean_neg, sd_neg, len(nonneg_retrn_set), mean_nonneg, sd_nonneg]"
   ]
  },
  {
   "cell_type": "code",
   "execution_count": 32,
   "id": "72fea3b9",
   "metadata": {
    "scrolled": false
   },
   "outputs": [
    {
     "name": "stdout",
     "output_type": "stream",
     "text": [
      "opened file for ticker:  Y\n",
      "2016\n",
      "+-----------+-------------------------+----------------------+------+------------------------+----------------------+------+----------------------+-----------------------+\n",
      "|    Day    |           µ(R)          |         σ(R)         | |R−| |         µ(R-)          |        σ(R-)         | |R+| |        µ(R+)         |         σ(R+)         |\n",
      "+-----------+-------------------------+----------------------+------+------------------------+----------------------+------+----------------------+-----------------------+\n",
      "|   Monday  | -0.00040684217341231254 | 0.009891133787249169 |  23  |  -0.00782364229195974  | 0.007046009381472826 |  23  | 0.007009957945135114 | 0.0060004132352489544 |\n",
      "|  Tuesday  |  0.0009692185449976947  | 0.01115686771970263  |  25  | -0.0072018171723898395 | 0.007078791954155565 |  27  | 0.008534992357393559 |  0.008618139898733753 |\n",
      "| Wednesday |   0.002185073206051288  | 0.008788833531046524 |  22  | -0.005594736552573037  | 0.004652003947298656 |  30  | 0.00789026702904246  |  0.006409693340103134 |\n",
      "|  Thursday |   0.001185025881988337  | 0.010462230617851618 |  23  | -0.007958025492319542  | 0.006467555519574495 |  28  | 0.008695389510884095 | 0.0063196088485130055 |\n",
      "|   Friday  |  0.0011945313401022545  | 0.01317284245401868  |  20  | -0.011107197091418669  | 0.008901839419678478 |  31  | 0.009131130328180269 |  0.00858642897097434  |\n",
      "+-----------+-------------------------+----------------------+------+------------------------+----------------------+------+----------------------+-----------------------+\n",
      "Since negative day is 113, non-negative day is 139, there are more days with non-negative returns\n",
      "Since average losing of down day is-0.007860636587019023, average earning of up day is0.008308761034081659.\n",
      "My stock gains more on a up day than it lose on a down days\n",
      "2017\n",
      "+-----------+------------------------+----------------------+------+-----------------------+----------------------+------+----------------------+----------------------+\n",
      "|    Day    |          µ(R)          |         σ(R)         | |R−| |         µ(R-)         |        σ(R-)         | |R+| |        µ(R+)         |        σ(R+)         |\n",
      "+-----------+------------------------+----------------------+------+-----------------------+----------------------+------+----------------------+----------------------+\n",
      "|   Monday  | 0.0004234558649413023  | 0.009904760355804619 |  24  | -0.006266750148034637 | 0.005164328537035684 |  22  | 0.007721862424551418 | 0.00859870242335312  |\n",
      "|  Tuesday  | -0.0005566667399987658 | 0.009125370544866063 |  27  | -0.006923110133091297 | 0.007010902668252148 |  24  | 0.006605582077230332 | 0.004976053966362915 |\n",
      "| Wednesday | 0.00032887212925492227 | 0.008365676714493255 |  20  | -0.008088778093170462 | 0.005476845978734579 |  32  | 0.005589903518270788 | 0.004797240270057787 |\n",
      "|  Thursday | -0.0005109629466876818 | 0.010161177482967947 |  25  | -0.008093968124160376 | 0.008031223127336284 |  26  | 0.006780388185497601 | 0.005661626139532691 |\n",
      "|   Friday  | 0.00019509942717240778 | 0.011205180567277208 |  24  | -0.007898460610471378 | 0.007316871182402422 |  27  | 0.007389375016189106 | 0.00892123721583539  |\n",
      "+-----------+------------------------+----------------------+------+-----------------------+----------------------+------+----------------------+----------------------+\n",
      "Since negative day is 120, non-negative day is 131, there are more days with non-negative returns\n",
      "Since average losing of down day is-0.0074251149730419, average earning of up day is0.0067411837712852505.\n",
      "My stock gains more on a up day than it lose on a down days\n",
      "2018\n",
      "+-----------+------------------------+----------------------+------+-----------------------+----------------------+------+----------------------+-----------------------+\n",
      "|    Day    |          µ(R)          |         σ(R)         | |R−| |         µ(R-)         |        σ(R-)         | |R+| |        µ(R+)         |         σ(R+)         |\n",
      "+-----------+------------------------+----------------------+------+-----------------------+----------------------+------+----------------------+-----------------------+\n",
      "|   Monday  | 0.0009853141864949524  | 0.016555762107527267 |  22  | -0.011949503393745902 | 0.009726523688932912 |  26  | 0.011930159831314137 |  0.012829983981789384 |\n",
      "|  Tuesday  | -0.0012690379640662409 | 0.010885739402498052 |  28  | -0.008784756663265102 | 0.007043926217393654 |  23  | 0.007880532626262808 |  0.007062290545349502 |\n",
      "| Wednesday | 0.0012732752304504059  | 0.012133762484294356 |  22  | -0.008580480058591107 | 0.00753760663344412  |  28  | 0.009015511528983024 |  0.009057284370580652 |\n",
      "|  Thursday | 0.00039322945299123966 | 0.013525923668537424 |  23  | -0.010879939569505026 | 0.010271860105221138 |  28  | 0.009653332578613172 | 0.0075114187888668865 |\n",
      "|   Friday  | 0.00033266590157334533 | 0.011858497840303621 |  27  | -0.008072889610169363 | 0.007864382955718823 |  24  | 0.009788915852283891 | 0.0077679248984610615 |\n",
      "+-----------+------------------------+----------------------+------+-----------------------+----------------------+------+----------------------+-----------------------+\n",
      "Since negative day is 122, non-negative day is 129, there are more days with non-negative returns\n",
      "Since average losing of down day is-0.009556061082754305, average earning of up day is0.0096829303991141.\n",
      "My stock gains more on a up day than it lose on a down days\n",
      "2019\n",
      "+-----------+------------------------+----------------------+------+-----------------------+----------------------+------+----------------------+-----------------------+\n",
      "|    Day    |          µ(R)          |         σ(R)         | |R−| |         µ(R-)         |        σ(R-)         | |R+| |        µ(R+)         |         σ(R+)         |\n",
      "+-----------+------------------------+----------------------+------+-----------------------+----------------------+------+----------------------+-----------------------+\n",
      "|   Monday  | -0.0018328638762578249 | 0.010385725880193977 |  30  | -0.008425588390339038 | 0.00530532950917248  |  18  | 0.00915501031387753  |  0.006895737577571654 |\n",
      "|  Tuesday  | 0.00046212460647293563 |  0.0122715714601125  |  24  | -0.009755003447897204 | 0.00831415456371513  |  28  | 0.009219662938790198 |  0.007365348261399663 |\n",
      "| Wednesday | 0.0023306975569368465  | 0.013130689570707675 |  19  | -0.009357155883498981 | 0.006332996640210302 |  32  | 0.00927036053719562  |  0.011031966903702025 |\n",
      "|  Thursday |  0.003461694932409194  | 0.008599251118700428 |  17  | -0.005206419341542358 | 0.005809616789292175 |  33  | 0.007927087134141812 |  0.006000635049571389 |\n",
      "|   Friday  |  0.000711463303228274  | 0.009009275203968613 |  23  |  -0.00713860755924215 | 0.005507525502206667 |  28  | 0.007159735797400408 | 0.0055429317059568365 |\n",
      "+-----------+------------------------+----------------------+------+-----------------------+----------------------+------+----------------------+-----------------------+\n",
      "Since negative day is 113, non-negative day is 139, there are more days with non-negative returns\n",
      "Since average losing of down day is-0.008118325654114815, average earning of up day is0.008501142178993325.\n",
      "My stock gains more on a up day than it lose on a down days\n",
      "2020\n",
      "+-----------+------------------------+----------------------+------+-----------------------+----------------------+------+----------------------+----------------------+\n",
      "|    Day    |          µ(R)          |         σ(R)         | |R−| |         µ(R-)         |        σ(R-)         | |R+| |        µ(R+)         |        σ(R+)         |\n",
      "+-----------+------------------------+----------------------+------+-----------------------+----------------------+------+----------------------+----------------------+\n",
      "|   Monday  | 0.0018052098234031557  | 0.03905471975434127  |  22  |  -0.02656763119597992 | 0.03347833704742299  |  26  | 0.02581299837826576  | 0.02469764493075883  |\n",
      "|  Tuesday  | 0.0004883913458186434  | 0.02867419766470062  |  25  |  -0.0193519989312875  | 0.013955044374287929 |  27  | 0.018859123083879888 | 0.026480760926224412 |\n",
      "| Wednesday | -0.004031262648420925  | 0.03468288195485514  |  27  | -0.027335940671110736 | 0.028564931447254905 |  25  | 0.02113778961608407  | 0.020019170839901946 |\n",
      "|  Thursday | 9.125831879062173e-05  | 0.030306083626865276 |  22  | -0.024594414332378026 | 0.024753163746453852 |  29  | 0.018818320330022013 | 0.018368617498834682 |\n",
      "|   Friday  | -0.0007229521003149515 | 0.030635123024005936 |  28  | -0.019594323714900174 | 0.01490247894816564  |  21  | 0.024438876719132013 | 0.02803195954970696  |\n",
      "+-----------+------------------------+----------------------+------+-----------------------+----------------------+------+----------------------+----------------------+\n",
      "Since negative day is 124, non-negative day is 128, there are more days with non-negative returns\n",
      "Since average losing of down day is-0.023355455137445615, average earning of up day is0.02162286501698578.\n",
      "My stock gains more on a up day than it lose on a down days\n"
     ]
    }
   ],
   "source": [
    "here = os.path.abspath('Assignment 1.ipynb')\n",
    "input_dir = os.path.abspath(os.path.join(here, os.pardir))\n",
    "ticker='Y'\n",
    "ticker_file = os.path.join(input_dir, ticker + '.csv')\n",
    "\n",
    "try:   \n",
    "    with open(ticker_file) as f:\n",
    "        lines = f.read().splitlines()\n",
    "    print('opened file for ticker: ', ticker)\n",
    "    \n",
    "    # Define sets\n",
    "    all_return, all_neg_return, all_nonneg_return = [], [], []\n",
    "    mon_return, tue_return, wed_return, thu_return, fri_return = [], [], [], [], []\n",
    "    mon_neg, tue_neg, wed_neg, thu_neg, fri_neg = [], [], [], [], []\n",
    "    mon_nonneg, tue_nonneg, wed_nonneg, thu_nonneg, fri_nonneg = [], [], [], [], []\n",
    "    \n",
    "    # Find key information and their index\n",
    "    year_ind = lines[0].split(',').index('Year')\n",
    "    wkdy_ind = lines[0].split(',').index('Weekday')\n",
    "    retrn_ind = lines[0].split(',').index('Return')\n",
    "    \n",
    "    # Put every returns into corresponding set\n",
    "    for line in lines[1:]:\n",
    "        current_year = line.split(',')[year_ind]\n",
    "        current_wkdy = line.split(',')[wkdy_ind]\n",
    "        current_retrn = float(line.split(',')[retrn_ind])\n",
    "        all_return.append(current_retrn)\n",
    "        if current_wkdy == 'Monday':\n",
    "            mon_return.append(current_retrn)\n",
    "        elif current_wkdy == 'Tuesday':\n",
    "            tue_return.append(current_retrn)\n",
    "        elif current_wkdy == 'Wednesday':\n",
    "            wed_return.append(current_retrn)\n",
    "        elif current_wkdy == 'Thursday':\n",
    "            thu_return.append(current_retrn)\n",
    "        elif current_wkdy == 'Friday':\n",
    "            fri_return.append(current_retrn)     \n",
    "                \n",
    "        if current_retrn < 0:\n",
    "            all_neg_return.append(current_retrn)\n",
    "            if current_wkdy == 'Monday':\n",
    "                mon_neg.append(current_retrn)\n",
    "            elif current_wkdy == 'Tuesday':\n",
    "                tue_neg.append(current_retrn)\n",
    "            elif current_wkdy == 'Wednesday':\n",
    "                wed_neg.append(current_retrn)\n",
    "            elif current_wkdy == 'Thursday':\n",
    "                thu_neg.append(current_retrn)\n",
    "            elif current_wkdy == 'Friday':\n",
    "                fri_neg.append(current_retrn)     \n",
    "        else:\n",
    "            all_nonneg_return.append(current_retrn)\n",
    "            if current_wkdy == 'Monday':\n",
    "                mon_nonneg.append(current_retrn)\n",
    "            elif current_wkdy == 'Tuesday':\n",
    "                tue_nonneg.append(current_retrn)\n",
    "            elif current_wkdy == 'Wednesday':\n",
    "                wed_nonneg.append(current_retrn)\n",
    "            elif current_wkdy == 'Thursday':\n",
    "                thu_nonneg.append(current_retrn)\n",
    "            elif current_wkdy == 'Friday':\n",
    "                fri_nonneg.append(current_retrn)     \n",
    "\n",
    "        # See if lines still has next line\n",
    "        if lines.index(line)+1 != len(lines):\n",
    "            next_year = lines[lines.index(line)+1].split(',')[year_ind]\n",
    "        else:\n",
    "            next_year = -1\n",
    "        # See if next line is in the same year\n",
    "        if next_year != current_year:\n",
    "            mon_stats = calculate_mean_sd(mon_return, mon_neg, mon_nonneg)\n",
    "            tue_stats = calculate_mean_sd(tue_return, tue_neg, tue_nonneg)\n",
    "            wed_stats = calculate_mean_sd(wed_return, wed_neg, wed_nonneg)\n",
    "            thu_stats = calculate_mean_sd(thu_return, thu_neg, thu_nonneg)\n",
    "            fri_stats = calculate_mean_sd(fri_return, fri_neg, fri_nonneg)\n",
    "            mon_stats.insert(0,'Monday')\n",
    "            tue_stats.insert(0,'Tuesday')\n",
    "            wed_stats.insert(0,'Wednesday')\n",
    "            thu_stats.insert(0,'Thursday')\n",
    "            fri_stats.insert(0,'Friday')\n",
    "            \n",
    "            # Question1 Part2 print current year and show table for corresponding year\n",
    "            print(current_year)\n",
    "            table = pt.PrettyTable(['Day', 'µ(R)', 'σ(R)', '|R−|', 'µ(R-)', 'σ(R-)', '|R+|', 'µ(R+)', 'σ(R+)'])\n",
    "            table.add_rows([mon_stats, tue_stats, wed_stats, thu_stats, fri_stats])\n",
    "            print(table)\n",
    "\n",
    "            # Question1 Part3 Are there more days with negative or non-negative returns?\n",
    "            neg_day = len(all_neg_return)\n",
    "            nonneg_day = len(all_nonneg_return)\n",
    "            if neg_day < nonneg_day:\n",
    "                print(f'Since negative day is {neg_day}, non-negative day is {nonneg_day}, there are more days with non-negative returns')\n",
    "            elif neg_day > nonneg_day:\n",
    "                print(f'Since negative day is {neg_day}, non-negative day is {nonneg_day}, there are more days with negative returns')\n",
    "            else:\n",
    "                print(f'Since negative day is {neg_day}, non-negative day is {nonneg_day}, there are same days with negative and non-negative returns')\n",
    "            \n",
    "            # Question1 Part4 Does your stock lose more on a ”down” day than it gains on an ”up” days.\n",
    "            all_stats = calculate_mean_sd(all_return, all_neg_return, all_nonneg_return)\n",
    "            print(f'Since average losing of down day is{all_stats[3]}, average earning of up day is{all_stats[6]}.')\n",
    "            if all_stats[3] > all_stats[6]:\n",
    "                print('My stock lose more on a down day than it gains on an up days')\n",
    "            else:\n",
    "                print('My stock gains more on a up day than it lose on a down days')\n",
    "            \n",
    "            # Question1 Part5\n",
    "            \n",
    "            # Initial all value for next year\n",
    "            all_return, all_neg_return, all_nonneg_return = [], [], []\n",
    "            mon_return, tue_return, wed_return, thu_return, fri_return = [], [], [], [], []\n",
    "            mon_neg, tue_neg, wed_neg, thu_neg, fri_neg = [], [], [], [], []\n",
    "            mon_nonneg, tue_nonneg, wed_nonneg, thu_nonneg, fri_nonneg = [], [], [], [], []\n",
    "\n",
    "            \n",
    "            \n",
    "except Exception as e:\n",
    "    print(e)\n",
    "    print('failed to read stock data for ticker: ', ticker)"
   ]
  },
  {
   "cell_type": "markdown",
   "id": "0f3aef50",
   "metadata": {},
   "source": [
    "## Question 2"
   ]
  },
  {
   "cell_type": "code",
   "execution_count": 33,
   "id": "c9fe3fab",
   "metadata": {},
   "outputs": [],
   "source": [
    "import os\n",
    "import matplotlib.pyplot as plt"
   ]
  },
  {
   "cell_type": "code",
   "execution_count": null,
   "id": "3b891bf0",
   "metadata": {},
   "outputs": [],
   "source": [
    "def calculate_mean_sd(retrn_set, neg_retrn_set, nonneg_retrn_set):\n",
    "    mean_retrn = sum(retrn_set) / len(retrn_set)\n",
    "    sd_retrn = (sum([((x - mean_retrn) ** 2) for x in retrn_set]) / len(retrn_set)) ** 0.5\n",
    "    \n",
    "    mean_neg = sum(neg_retrn_set) / len(neg_retrn_set)\n",
    "    sd_neg = (sum([((x - mean_neg) ** 2) for x in neg_retrn_set]) / len(neg_retrn_set)) ** 0.5\n",
    "    \n",
    "    mean_nonneg = sum(nonneg_retrn_set) / len(nonneg_retrn_set)\n",
    "    sd_nonneg = (sum([((x - mean_nonneg) ** 2) for x in nonneg_retrn_set]) / len(nonneg_retrn_set)) ** 0.5\n",
    "    return [mean_retrn, sd_retrn, len(neg_retrn_set), mean_neg, sd_neg, len(nonneg_retrn_set), mean_nonneg, sd_nonneg]"
   ]
  },
  {
   "cell_type": "code",
   "execution_count": 40,
   "id": "a538c31e",
   "metadata": {},
   "outputs": [
    {
     "name": "stdout",
     "output_type": "stream",
     "text": [
      "opened file for ticker:  Y\n"
     ]
    },
    {
     "data": {
      "image/png": "[encoded data removed]",
      "text/plain": [
       "<Figure size 432x288 with 1 Axes>"
      ]
     },
     "metadata": {
      "needs_background": "light"
     },
     "output_type": "display_data"
    },
    {
     "data": {
      "image/png": "[encoded data removed]",
      "text/plain": [
       "<Figure size 432x288 with 1 Axes>"
      ]
     },
     "metadata": {
      "needs_background": "light"
     },
     "output_type": "display_data"
    },
    {
     "data": {
      "image/png": "[encoded data removed]",
      "text/plain": [
       "<Figure size 432x288 with 1 Axes>"
      ]
     },
     "metadata": {
      "needs_background": "light"
     },
     "output_type": "display_data"
    },
    {
     "data": {
      "image/png": "[encoded data removed]",
      "text/plain": [
       "<Figure size 432x288 with 1 Axes>"
      ]
     },
     "metadata": {
      "needs_background": "light"
     },
     "output_type": "display_data"
    },
    {
     "data": {
      "image/png": "[encoded data removed]",
      "text/plain": [
       "<Figure size 432x288 with 1 Axes>"
      ]
     },
     "metadata": {
      "needs_background": "light"
     },
     "output_type": "display_data"
    },
    {
     "data": {
      "image/png": "[encoded data removed]",
      "text/plain": [
       "<Figure size 432x288 with 1 Axes>"
      ]
     },
     "metadata": {
      "needs_background": "light"
     },
     "output_type": "display_data"
    }
   ],
   "source": [
    "here = os.path.abspath('Assignment 1.ipynb')\n",
    "input_dir = os.path.abspath(os.path.join(here, os.pardir))\n",
    "ticker='Y'\n",
    "ticker_file = os.path.join(input_dir, ticker + '.csv')\n",
    "\n",
    "try:   \n",
    "    with open(ticker_file) as f:\n",
    "        lines = f.read().splitlines()\n",
    "    print('opened file for ticker: ', ticker)\n",
    "    \n",
    "    # Define sets\n",
    "    all_mon, all_tue, all_wed, all_thu, all_fri = [], [], [], [], []\n",
    "    all_return, all_neg_return, all_nonneg_return = [], [], []\n",
    "    mon_return, tue_return, wed_return, thu_return, fri_return = [], [], [], [], []\n",
    "    mon_neg, tue_neg, wed_neg, thu_neg, fri_neg = [], [], [], [], []\n",
    "    mon_nonneg, tue_nonneg, wed_nonneg, thu_nonneg, fri_nonneg = [], [], [], [], []\n",
    "    \n",
    "    # Find key information and their index\n",
    "    year_ind = lines[0].split(',').index('Year')\n",
    "    wkdy_ind = lines[0].split(',').index('Weekday')\n",
    "    retrn_ind = lines[0].split(',').index('Return')\n",
    "    \n",
    "    # Put every returns into corresponding set\n",
    "    for line in lines[1:]:\n",
    "        current_year = line.split(',')[year_ind]\n",
    "        current_wkdy = line.split(',')[wkdy_ind]\n",
    "        current_retrn = float(line.split(',')[retrn_ind])\n",
    "        all_return.append(current_retrn)\n",
    "        if current_wkdy == 'Monday':\n",
    "            mon_return.append(current_retrn)\n",
    "        elif current_wkdy == 'Tuesday':\n",
    "            tue_return.append(current_retrn)\n",
    "        elif current_wkdy == 'Wednesday':\n",
    "            wed_return.append(current_retrn)\n",
    "        elif current_wkdy == 'Thursday':\n",
    "            thu_return.append(current_retrn)\n",
    "        elif current_wkdy == 'Friday':\n",
    "            fri_return.append(current_retrn)     \n",
    "                \n",
    "        if current_retrn < 0:\n",
    "            all_neg_return.append(current_retrn)\n",
    "            if current_wkdy == 'Monday':\n",
    "                mon_neg.append(current_retrn)\n",
    "            elif current_wkdy == 'Tuesday':\n",
    "                tue_neg.append(current_retrn)\n",
    "            elif current_wkdy == 'Wednesday':\n",
    "                wed_neg.append(current_retrn)\n",
    "            elif current_wkdy == 'Thursday':\n",
    "                thu_neg.append(current_retrn)\n",
    "            elif current_wkdy == 'Friday':\n",
    "                fri_neg.append(current_retrn)     \n",
    "        else:\n",
    "            all_nonneg_return.append(current_retrn)\n",
    "            if current_wkdy == 'Monday':\n",
    "                mon_nonneg.append(current_retrn)\n",
    "            elif current_wkdy == 'Tuesday':\n",
    "                tue_nonneg.append(current_retrn)\n",
    "            elif current_wkdy == 'Wednesday':\n",
    "                wed_nonneg.append(current_retrn)\n",
    "            elif current_wkdy == 'Thursday':\n",
    "                thu_nonneg.append(current_retrn)\n",
    "            elif current_wkdy == 'Friday':\n",
    "                fri_nonneg.append(current_retrn)     \n",
    "\n",
    "        # See if lines still has next line\n",
    "        if lines.index(line)+1 != len(lines):\n",
    "            next_year = lines[lines.index(line)+1].split(',')[year_ind]\n",
    "        else:\n",
    "            next_year = -1\n",
    "        # See if next line is in the same year\n",
    "        if next_year != current_year:\n",
    "            mon_stats = calculate_mean_sd(mon_return, mon_neg, mon_nonneg)\n",
    "            tue_stats = calculate_mean_sd(tue_return, tue_neg, tue_nonneg)\n",
    "            wed_stats = calculate_mean_sd(wed_return, wed_neg, wed_nonneg)\n",
    "            thu_stats = calculate_mean_sd(thu_return, thu_neg, thu_nonneg)\n",
    "            fri_stats = calculate_mean_sd(fri_return, fri_neg, fri_nonneg)\n",
    "            mon_stats.insert(0,'Monday')\n",
    "            tue_stats.insert(0,'Tuesday')\n",
    "            wed_stats.insert(0,'Wednesday')\n",
    "            thu_stats.insert(0,'Thursday')\n",
    "            fri_stats.insert(0,'Friday')\n",
    "            \n",
    "            # Question2 Part1 are there any patterns across days of the week? \n",
    "            avg_all_returns = [mon_stats[1], tue_stats[1], wed_stats[1], thu_stats[1], fri_stats[1]]\n",
    "            plt.plot(['Mon', 'Tue', 'Wed', 'Thu', 'Fri'], avg_all_returns, color='blue')\n",
    "            plt.title(f'Average returns for {current_year}')\n",
    "            plt.show()\n",
    "            \n",
    "            # Question2 Part2 are there any patterns across different years for the same day of the week?\n",
    "            all_mon.append(mon_stats[1])\n",
    "            all_tue.append(tue_stats[1])\n",
    "            all_wed.append(wed_stats[1])\n",
    "            all_thu.append(thu_stats[1])\n",
    "            all_fri.append(fri_stats[1])\n",
    "            \n",
    "            \n",
    "            # Initial all value for next year\n",
    "            all_return, all_neg_return, all_nonneg_return = [], [], []\n",
    "            mon_return, tue_return, wed_return, thu_return, fri_return = [], [], [], [], []\n",
    "            mon_neg, tue_neg, wed_neg, thu_neg, fri_neg = [], [], [], [], []\n",
    "            mon_nonneg, tue_nonneg, wed_nonneg, thu_nonneg, fri_nonneg = [], [], [], [], []\n",
    "\n",
    "    # Question2 Part2 plot all returns across different years for the same day of the week\n",
    "    plt.plot(['2016', '2017', '2018', '2019', '2020'], all_mon, label='Mon')\n",
    "    plt.plot(['2016', '2017', '2018', '2019', '2020'], all_tue, label='Tue')\n",
    "    plt.plot(['2016', '2017', '2018', '2019', '2020'], all_wed, label='Wed')\n",
    "    plt.plot(['2016', '2017', '2018', '2019', '2020'], all_thu, label='Thu')\n",
    "    plt.plot(['2016', '2017', '2018', '2019', '2020'], all_fri, label='Fri')\n",
    "    plt.legend()\n",
    "    plt.title('across different years for the same day of the week')\n",
    "    plt.show()        \n",
    "            \n",
    "except Exception as e:\n",
    "    print(e)\n",
    "    print('failed to read stock data for ticker: ', ticker)"
   ]
  },
  {
   "cell_type": "markdown",
   "id": "8f89af7e",
   "metadata": {},
   "source": [
    "## Question 3"
   ]
  },
  {
   "cell_type": "code",
   "execution_count": 42,
   "id": "47fe9a57",
   "metadata": {},
   "outputs": [],
   "source": [
    "import os\n",
    "import prettytable as pt"
   ]
  },
  {
   "cell_type": "code",
   "execution_count": 43,
   "id": "c1075ba9",
   "metadata": {},
   "outputs": [],
   "source": [
    "def calculate_mean_sd(retrn_set, neg_retrn_set, nonneg_retrn_set):\n",
    "    mean_retrn = sum(retrn_set) / len(retrn_set)\n",
    "    sd_retrn = (sum([((x - mean_retrn) ** 2) for x in retrn_set]) / len(retrn_set)) ** 0.5\n",
    "    \n",
    "    mean_neg = sum(neg_retrn_set) / len(neg_retrn_set)\n",
    "    sd_neg = (sum([((x - mean_neg) ** 2) for x in neg_retrn_set]) / len(neg_retrn_set)) ** 0.5\n",
    "    \n",
    "    mean_nonneg = sum(nonneg_retrn_set) / len(nonneg_retrn_set)\n",
    "    sd_nonneg = (sum([((x - mean_nonneg) ** 2) for x in nonneg_retrn_set]) / len(nonneg_retrn_set)) ** 0.5\n",
    "    return [mean_retrn, sd_retrn, len(neg_retrn_set), mean_neg, sd_neg, len(nonneg_retrn_set), mean_nonneg, sd_nonneg]"
   ]
  },
  {
   "cell_type": "code",
   "execution_count": 70,
   "id": "f0bad9d8",
   "metadata": {},
   "outputs": [],
   "source": [
    "def calc_returns(input_dir, ticker):\n",
    "    ticker_file = os.path.join(input_dir, ticker + '.csv')\n",
    "    try:   \n",
    "        with open(ticker_file) as f:\n",
    "            lines = f.read().splitlines()\n",
    "        print('opened file for ticker: ', ticker)\n",
    "\n",
    "        # Define sets\n",
    "        all_return, all_neg_return, all_nonneg_return = [], [], []\n",
    "        mon_return, tue_return, wed_return, thu_return, fri_return = [], [], [], [], []\n",
    "        mon_neg, tue_neg, wed_neg, thu_neg, fri_neg = [], [], [], [], []\n",
    "        mon_nonneg, tue_nonneg, wed_nonneg, thu_nonneg, fri_nonneg = [], [], [], [], []\n",
    "\n",
    "        # Find key information and their index\n",
    "        year_ind = lines[0].split(',').index('Year')\n",
    "        wkdy_ind = lines[0].split(',').index('Weekday')\n",
    "        retrn_ind = lines[0].split(',').index('Return')\n",
    "\n",
    "        # Put every returns into corresponding set\n",
    "        for line in lines[1:]:\n",
    "            current_year = line.split(',')[year_ind]\n",
    "            current_wkdy = line.split(',')[wkdy_ind]\n",
    "            current_retrn = float(line.split(',')[retrn_ind])\n",
    "            all_return.append(current_retrn)\n",
    "            if current_wkdy == 'Monday':\n",
    "                mon_return.append(current_retrn)\n",
    "            elif current_wkdy == 'Tuesday':\n",
    "                tue_return.append(current_retrn)\n",
    "            elif current_wkdy == 'Wednesday':\n",
    "                wed_return.append(current_retrn)\n",
    "            elif current_wkdy == 'Thursday':\n",
    "                thu_return.append(current_retrn)\n",
    "            elif current_wkdy == 'Friday':\n",
    "                fri_return.append(current_retrn)     \n",
    "\n",
    "            if current_retrn < 0:\n",
    "                all_neg_return.append(current_retrn)\n",
    "                if current_wkdy == 'Monday':\n",
    "                    mon_neg.append(current_retrn)\n",
    "                elif current_wkdy == 'Tuesday':\n",
    "                    tue_neg.append(current_retrn)\n",
    "                elif current_wkdy == 'Wednesday':\n",
    "                    wed_neg.append(current_retrn)\n",
    "                elif current_wkdy == 'Thursday':\n",
    "                    thu_neg.append(current_retrn)\n",
    "                elif current_wkdy == 'Friday':\n",
    "                    fri_neg.append(current_retrn)     \n",
    "            else:\n",
    "                all_nonneg_return.append(current_retrn)\n",
    "                if current_wkdy == 'Monday':\n",
    "                    mon_nonneg.append(current_retrn)\n",
    "                elif current_wkdy == 'Tuesday':\n",
    "                    tue_nonneg.append(current_retrn)\n",
    "                elif current_wkdy == 'Wednesday':\n",
    "                    wed_nonneg.append(current_retrn)\n",
    "                elif current_wkdy == 'Thursday':\n",
    "                    thu_nonneg.append(current_retrn)\n",
    "                elif current_wkdy == 'Friday':\n",
    "                    fri_nonneg.append(current_retrn)  \n",
    "        all_returns = [all_return, all_neg_return, all_nonneg_return] \n",
    "        all_week = [mon_return, tue_return, wed_return, thu_return, fri_return]\n",
    "        week_neg = [mon_neg, tue_neg, wed_neg, thu_neg, fri_neg]\n",
    "        week_nonneg = [mon_nonneg, tue_nonneg, wed_nonneg, thu_nonneg, fri_nonneg]\n",
    "        return all_returns, all_week, week_neg, week_nonneg\n",
    "        \n",
    "    except Exception as e:\n",
    "        print(e)\n",
    "        print('failed to read stock data for ticker: ', ticker)\n",
    "        \n",
    "def print_table(mon_return, mon_neg, mon_nonneg, tue_return, tue_neg, tue_nonneg, wed_return, \n",
    "                wed_neg, wed_nonneg, thu_return, thu_neg, thu_nonneg, fri_return, fri_neg, fri_nonneg):        \n",
    "    mon_stats = calculate_mean_sd(mon_return, mon_neg, mon_nonneg)\n",
    "    tue_stats = calculate_mean_sd(tue_return, tue_neg, tue_nonneg)\n",
    "    wed_stats = calculate_mean_sd(wed_return, wed_neg, wed_nonneg)\n",
    "    thu_stats = calculate_mean_sd(thu_return, thu_neg, thu_nonneg)\n",
    "    fri_stats = calculate_mean_sd(fri_return, fri_neg, fri_nonneg)\n",
    "    mon_stats.insert(0,'Monday')\n",
    "    tue_stats.insert(0,'Tuesday')\n",
    "    wed_stats.insert(0,'Wednesday')\n",
    "    thu_stats.insert(0,'Thursday')\n",
    "    fri_stats.insert(0,'Friday')\n",
    "\n",
    "    # Question3 print all 5 years and show table\n",
    "    table = pt.PrettyTable(['Day', 'µ(R)', 'σ(R)', '|R−|', 'µ(R-)', 'σ(R-)', '|R+|', 'µ(R+)', 'σ(R+)'])\n",
    "    table.add_rows([mon_stats, tue_stats, wed_stats, thu_stats, fri_stats])\n",
    "    print(table)"
   ]
  },
  {
   "cell_type": "code",
   "execution_count": 72,
   "id": "7d59de14",
   "metadata": {},
   "outputs": [
    {
     "name": "stdout",
     "output_type": "stream",
     "text": [
      "opened file for ticker:  Y\n",
      "+-----------+------------------------+----------------------+------+-----------------------+----------------------+------+----------------------+----------------------+\n",
      "|    Day    |          µ(R)          |         σ(R)         | |R−| |         µ(R-)         |        σ(R-)         | |R+| |        µ(R+)         |        σ(R+)         |\n",
      "+-----------+------------------------+----------------------+------+-----------------------+----------------------+------+----------------------+----------------------+\n",
      "|   Monday  | 0.0001980165941740132  | 0.02068027349442558  | 121  | -0.011822234619438385 | 0.01715355163550013  | 115  | 0.012845411349366188 | 0.016002598739515993 |\n",
      "|  Tuesday  | 2.6028116091964715e-05 | 0.016177176507314654 | 129  | -0.010316764693847706 | 0.010101969115197928 | 129  | 0.010368820926031638 | 0.014401582318430629 |\n",
      "| Wednesday | 0.0004032250453086938  | 0.018480890338281365 | 110  | -0.012631697156504465 | 0.017326690797899592 | 147  | 0.010157248461631465 | 0.012255036972439034 |\n",
      "|  Thursday | 0.0009140583963845199  | 0.016742317821218097 | 110  | -0.011501896760404648 | 0.01479800817916847  | 144  | 0.010398468585598467 | 0.010928769473381927 |\n",
      "|   Friday  | 0.0003505814452982519  | 0.016945871583555254 | 122  |  -0.01100413158880355 | 0.01083753524277877  | 131  | 0.010925199690797643 | 0.01460544959815015  |\n",
      "+-----------+------------------------+----------------------+------+-----------------------+----------------------+------+----------------------+----------------------+\n",
      "opened file for ticker:  SPY\n",
      "+-----------+-------------------------+----------------------+------+------------------------+----------------------+------+----------------------+----------------------+\n",
      "|    Day    |           µ(R)          |         σ(R)         | |R−| |         µ(R-)          |        σ(R-)         | |R+| |        µ(R+)         |        σ(R+)         |\n",
      "+-----------+-------------------------+----------------------+------+------------------------+----------------------+------+----------------------+----------------------+\n",
      "|   Monday  |  0.0005086132250447507  | 0.01391314397061858  |  99  | -0.008612717305084245  |  0.014801994941518   | 137  | 0.007099939666524828 | 0.008459571492397315 |\n",
      "|  Tuesday  |   0.001214949909073148  | 0.011464608656649762 | 112  | -0.0067091663071241325 | 0.006934892906156432 | 146  | 0.007293723992731336 | 0.010500112431639666 |\n",
      "| Wednesday |   0.000906263926963854  | 0.011115279568283003 | 106  | -0.007368795083211805  | 0.010126313108174596 | 151  | 0.006715245748676568 | 0.007515470365710536 |\n",
      "|  Thursday | -2.1385118132058127e-05 | 0.011676391510707056 | 117  | -0.007136063380936379  | 0.012439600003672852 | 137  | 0.006054653982219077 | 0.006361777529120333 |\n",
      "|   Friday  |  0.0005557825526898351  | 0.011110796227916367 | 111  | -0.007257188665140695  | 0.008449445609814088 | 142  | 0.006663105124374263 | 0.008895293563073723 |\n",
      "+-----------+-------------------------+----------------------+------+------------------------+----------------------+------+----------------------+----------------------+\n"
     ]
    }
   ],
   "source": [
    "here = os.path.abspath('Assignment 1.ipynb')\n",
    "input_dir = os.path.abspath(os.path.join(here, os.pardir))\n",
    "# Get the aggregate table data across all 5 years for both my stock and \"SPY\"\n",
    "y_all, y_week, y_week_neg, y_week_nonneg = calc_returns(input_dir, 'Y')\n",
    "print_table(y_week[0], y_week_neg[0], y_week_nonneg[0], y_week[1], y_week_neg[1], y_week_nonneg[1], y_week[2], \n",
    "            y_week_neg[2], y_week_nonneg[2], y_week[3], y_week_neg[3], y_week_nonneg[3], y_week[4], y_week_neg[4], \n",
    "            y_week_nonneg[4])\n",
    "\n",
    "s_all, s_week, s_week_neg, s_week_nonneg = calc_returns(input_dir, 'SPY')\n",
    "print_table(s_week[0], s_week_neg[0], s_week_nonneg[0], s_week[1], s_week_neg[1], s_week_nonneg[1], s_week[2], \n",
    "            s_week_neg[2], s_week_nonneg[2], s_week[3], s_week_neg[3], s_week_nonneg[3], s_week[4], s_week_neg[4], \n",
    "            s_week_nonneg[4])"
   ]
  },
  {
   "cell_type": "markdown",
   "id": "8f69f0f1",
   "metadata": {},
   "source": [
    "## Question 4"
   ]
  },
  {
   "cell_type": "code",
   "execution_count": 76,
   "id": "c4c4a2a9",
   "metadata": {},
   "outputs": [],
   "source": [
    "import os"
   ]
  },
  {
   "cell_type": "code",
   "execution_count": 78,
   "id": "8c7df3e8",
   "metadata": {},
   "outputs": [],
   "source": [
    "def money_calc(input_dir, ticker):\n",
    "    ticker_file = os.path.join(input_dir, ticker + '.csv')\n",
    "    try:   \n",
    "        with open(ticker_file) as f:\n",
    "            lines = f.read().splitlines()\n",
    "        print('opened file for ticker: ', ticker)\n",
    "        retrn_ind = lines[0].split(',').index('Return')\n",
    "        \n",
    "        # Define initial money\n",
    "        money = 100\n",
    "\n",
    "        for line in lines[1:]:\n",
    "            current_retrn = float(line.split(',')[retrn_ind])\n",
    "            # listen to Oracle so avoid all negative returns \n",
    "            if current_retrn >= 0:\n",
    "                money *= 1+current_retrn\n",
    "        return money\n",
    "    except Exception as e:\n",
    "        print(e)\n",
    "        print('failed to read stock data for ticker: ', ticker)"
   ]
  },
  {
   "cell_type": "code",
   "execution_count": 79,
   "id": "1f739e11",
   "metadata": {},
   "outputs": [
    {
     "name": "stdout",
     "output_type": "stream",
     "text": [
      "opened file for ticker:  Y\n",
      "opened file for ticker:  SPY\n",
      "For my stock, I will have 125983.85639775243 dollars on the last trading day of 2020\n",
      "For S&P-500 stock, I will have 11985.076468564423 dollars on the last trading day of 2020\n"
     ]
    }
   ],
   "source": [
    "here = os.path.abspath('Assignment 1.ipynb')\n",
    "input_dir = os.path.abspath(os.path.join(here, os.pardir))\n",
    "y_money = money_calc(input_dir, 'Y')\n",
    "s_money = money_calc(input_dir, 'SPY')\n",
    "print(f'For my stock, I will have {y_money} dollars on the last trading day of 2020')\n",
    "print(f'For S&P-500 stock, I will have {s_money} dollars on the last trading day of 2020')"
   ]
  },
  {
   "cell_type": "markdown",
   "id": "ed499d7f",
   "metadata": {},
   "source": [
    "## Question 5"
   ]
  },
  {
   "cell_type": "code",
   "execution_count": 80,
   "id": "21cfd023",
   "metadata": {},
   "outputs": [],
   "source": [
    "import os"
   ]
  },
  {
   "cell_type": "code",
   "execution_count": 81,
   "id": "1eeaa9ec",
   "metadata": {},
   "outputs": [],
   "source": [
    "def money_calc(input_dir, ticker):\n",
    "    ticker_file = os.path.join(input_dir, ticker + '.csv')\n",
    "    try:   \n",
    "        with open(ticker_file) as f:\n",
    "            lines = f.read().splitlines()\n",
    "        print('opened file for ticker: ', ticker)\n",
    "        retrn_ind = lines[0].split(',').index('Return')\n",
    "        \n",
    "        # Define initial money\n",
    "        money = 100\n",
    "\n",
    "        for line in lines[1:]:\n",
    "            current_retrn = float(line.split(',')[retrn_ind])\n",
    "            # Since we do not listen to Oracle so go through all returns \n",
    "            money *= 1+current_retrn\n",
    "        return money\n",
    "    except Exception as e:\n",
    "        print(e)\n",
    "        print('failed to read stock data for ticker: ', ticker)"
   ]
  },
  {
   "cell_type": "code",
   "execution_count": 82,
   "id": "241b3c6e",
   "metadata": {},
   "outputs": [
    {
     "name": "stdout",
     "output_type": "stream",
     "text": [
      "opened file for ticker:  Y\n",
      "opened file for ticker:  SPY\n",
      "For my stock, I will have 131.90063800699082 dollars on the last trading day of 2020\n",
      "For S&P-500 stock, I will have 203.81486684670827 dollars on the last trading day of 2020\n"
     ]
    }
   ],
   "source": [
    "here = os.path.abspath('Assignment 1.ipynb')\n",
    "input_dir = os.path.abspath(os.path.join(here, os.pardir))\n",
    "y_money = money_calc(input_dir, 'Y')\n",
    "s_money = money_calc(input_dir, 'SPY')\n",
    "print(f'For my stock, I will have {y_money} dollars on the last trading day of 2020')\n",
    "print(f'For S&P-500 stock, I will have {s_money} dollars on the last trading day of 2020')"
   ]
  },
  {
   "cell_type": "markdown",
   "id": "4eb1de28",
   "metadata": {},
   "source": [
    "## Question 6"
   ]
  },
  {
   "cell_type": "code",
   "execution_count": 83,
   "id": "6074205d",
   "metadata": {},
   "outputs": [],
   "source": [
    "import os"
   ]
  },
  {
   "cell_type": "code",
   "execution_count": 118,
   "id": "ec20c907",
   "metadata": {},
   "outputs": [],
   "source": [
    "def get_returns(input_dir, ticker):\n",
    "    ticker_file = os.path.join(input_dir, ticker + '.csv')\n",
    "    try:   \n",
    "        with open(ticker_file) as f:\n",
    "            lines = f.read().splitlines()\n",
    "        print('opened file for ticker: ', ticker)\n",
    "        retrn_ind = lines[0].split(',').index('Return')\n",
    "        returns = []\n",
    "        for line in lines[1:]:\n",
    "            current_retrn = float(line.split(',')[retrn_ind])\n",
    "            # Since we do not listen to Oracle so go through all returns \n",
    "            returns.append(current_retrn)\n",
    "        sort_returns = sorted(returns)\n",
    "        best_returns = sort_returns[-10:]\n",
    "        worst_returns = sort_returns[:10]\n",
    "        return returns, best_returns, worst_returns\n",
    "    \n",
    "    except Exception as e:\n",
    "        print(e)\n",
    "        print('failed to read stock data for ticker: ', ticker)"
   ]
  },
  {
   "cell_type": "code",
   "execution_count": 128,
   "id": "e7d17e33",
   "metadata": {},
   "outputs": [
    {
     "name": "stdout",
     "output_type": "stream",
     "text": [
      "opened file for ticker:  Y\n",
      "By missing the best 10 days, my stock will have 56003.84267770594 dollars on the last trading day of 2020\n",
      "opened file for ticker:  SPY\n",
      "By missing the best 10 days, S&P-500 stock will have 6849.91547326207 dollars on the last trading day of 2020\n",
      "By missing the worst 10 days, my stock will have 51430.549459777576 dollars on the last trading day of 2020\n",
      "By missing the worst 10 days, S&P-500 stock will have 6333.209918469919 dollars on the last trading day of 2020\n",
      "By getting wrong results for best 5 days and the worst 5 days, my stock will have 43116.014670398545 dollars on the last trading day of 2020\n",
      "By getting wrong results for best 5 days and the worst 5 days, S&P-500 stock will have 5648.882716024927 dollars on the last trading day of 2020\n"
     ]
    }
   ],
   "source": [
    "here = os.path.abspath('Assignment 1.ipynb')\n",
    "input_dir = os.path.abspath(os.path.join(here, os.pardir))\n",
    "y_returns, y_best_returns, y_worst_returns = get_returns(input_dir, 'Y')\n",
    "# Question 6 part 1,a missed the best 10 days\n",
    "# Define initial money\n",
    "y_money = 100\n",
    "for current_retrn in y_returns:\n",
    "    if current_retrn > 0 and current_retrn not in y_best_returns:\n",
    "        y_money *= 1+current_retrn\n",
    "print(f'By missing the best 10 days, my stock will have {y_money} dollars on the last trading day of 2020')\n",
    "\n",
    "s_returns, s_best_returns, s_worst_returns = get_returns(input_dir, 'SPY')\n",
    "s_money = 100\n",
    "for current_retrn in s_returns:\n",
    "    if current_retrn >= 0 and current_retrn not in s_best_returns:\n",
    "        s_money *= 1+current_retrn\n",
    "print(f'By missing the best 10 days, S&P-500 stock will have {s_money} dollars on the last trading day of 2020')\n",
    "\n",
    "# Question 6 part 1,b missed the worst 10 days\n",
    "y_money = 100\n",
    "for current_retrn in y_returns:\n",
    "    if current_retrn >= 0 or current_retrn in y_worst_returns:\n",
    "        y_money *= 1+current_retrn\n",
    "print(f'By missing the worst 10 days, my stock will have {y_money} dollars on the last trading day of 2020')\n",
    "\n",
    "s_money = 100\n",
    "for current_retrn in s_returns:\n",
    "    if current_retrn >= 0 or current_retrn in s_worst_returns:\n",
    "        s_money *= 1+current_retrn\n",
    "print(f'By missing the worst 10 days, S&P-500 stock will have {s_money} dollars on the last trading day of 2020')\n",
    "\n",
    "# Question 6 part 1,c wrong results for best 5 days and for the worst 5 days\n",
    "y_money = 100\n",
    "for current_retrn in y_returns:\n",
    "    if (current_retrn >= 0 and current_retrn not in y_best_returns[-5:]) or current_retrn in y_worst_returns[:5]:\n",
    "        y_money *= 1+current_retrn\n",
    "print(f'By getting wrong results for best 5 days and the worst 5 days, my stock will have {y_money} dollars on the last trading day of 2020')\n",
    "\n",
    "s_money = 100\n",
    "for current_retrn in s_returns:\n",
    "    if (current_retrn >= 0 and current_retrn not in s_best_returns[-5:]) or current_retrn in s_worst_returns[:5]:\n",
    "        s_money *= 1+current_retrn\n",
    "print(f'By getting wrong results for best 5 days and the worst 5 days, S&P-500 stock will have {s_money} dollars on the last trading day of 2020')"
   ]
  },
  {
   "cell_type": "code",
   "execution_count": null,
   "id": "5cc893ea",
   "metadata": {},
   "outputs": [],
   "source": []
  },
  {
   "cell_type": "code",
   "execution_count": null,
   "id": "4663bdd3",
   "metadata": {},
   "outputs": [],
   "source": []
  }
 ],
 "metadata": {
  "kernelspec": {
   "display_name": "Python 3 (ipykernel)",
   "language": "python",
   "name": "python3"
  },
  "language_info": {
   "codemirror_mode": {
    "name": "ipython",
    "version": 3
   },
   "file_extension": ".py",
   "mimetype": "text/x-python",
   "name": "python",
   "nbconvert_exporter": "python",
   "pygments_lexer": "ipython3",
   "version": "3.9.12"
  }
 },
 "nbformat": 4,
 "nbformat_minor": 5
}
